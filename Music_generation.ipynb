{
  "nbformat": 4,
  "nbformat_minor": 0,
  "metadata": {
    "colab": {
      "name": "Music generation.ipynb",
      "provenance": [],
      "authorship_tag": "ABX9TyOu5C2jz6DTI6jABq6GHQIG"
    },
    "kernelspec": {
      "name": "python3",
      "display_name": "Python 3"
    }
  },
  "cells": [
    {
      "cell_type": "code",
      "metadata": {
        "id": "TGKUFcE4gj2V",
        "colab_type": "code",
        "colab": {}
      },
      "source": [
        "from google.colab import drive\n",
        "drive.mount('/content/drive')"
      ],
      "execution_count": 0,
      "outputs": []
    },
    {
      "cell_type": "code",
      "metadata": {
        "id": "HKz_il1UglBT",
        "colab_type": "code",
        "outputId": "a1f83ea3-21aa-4702-d000-f001dadf3f87",
        "colab": {
          "base_uri": "https://localhost:8080/",
          "height": 34
        }
      },
      "source": [
        "cd \"/content/drive/My Drive/Colab Notebooks/Data\""
      ],
      "execution_count": 0,
      "outputs": [
        {
          "output_type": "stream",
          "text": [
            "/content/drive/My Drive/Colab Notebooks/Data\n"
          ],
          "name": "stdout"
        }
      ]
    },
    {
      "cell_type": "code",
      "metadata": {
        "id": "zC0Inb2Jg6Sh",
        "colab_type": "code",
        "colab": {}
      },
      "source": [
        "from numpy.random import seed\n",
        "seed(1)\n",
        "from tensorflow import set_random_seed\n",
        "set_random_seed(2)"
      ],
      "execution_count": 0,
      "outputs": []
    },
    {
      "cell_type": "code",
      "metadata": {
        "id": "CcQo_U4thDEZ",
        "colab_type": "code",
        "outputId": "f300416f-ddad-4750-e18e-fed813465af5",
        "colab": {
          "base_uri": "https://localhost:8080/",
          "height": 34
        }
      },
      "source": [
        "import numpy as np\n",
        "from music21 import *\n",
        "import random\n",
        "import os\n",
        "\n",
        "from keras.layers import *\n",
        "from keras.models import *\n",
        "import keras.backend as k\n"
      ],
      "execution_count": 0,
      "outputs": [
        {
          "output_type": "stream",
          "text": [
            "Using TensorFlow backend.\n"
          ],
          "name": "stderr"
        }
      ]
    },
    {
      "cell_type": "code",
      "metadata": {
        "id": "uFoDpb4QJ5sj",
        "colab_type": "code",
        "colab": {}
      },
      "source": [
        "from zipfile import ZipFile\n",
        "with ZipFile('piano.zip','r') as zip:\n",
        "  zip.extractall()"
      ],
      "execution_count": 0,
      "outputs": []
    },
    {
      "cell_type": "code",
      "metadata": {
        "id": "dGOBV0FaiBmZ",
        "colab_type": "code",
        "colab": {}
      },
      "source": [
        "def read_midi(file):\n",
        "  notes=[]\n",
        "  notes_to_parse = None\n",
        "\n",
        "  #parsing a midi file\n",
        "  midi = converter.parse(file)\n",
        "  #grouping based on different instruments\n",
        "  s2 = instrument.partitionByInstrument(midi)\n",
        "\n",
        "  #Looping over all the instruments\n",
        "  for part in s2.parts:\n",
        "    #select elements of only piano\n",
        "    if 'Piano' in str(part): \n",
        "      notes_to_parse = part.recurse() \n",
        "      #finding whether a particular element is note or a chord\n",
        "      for element in notes_to_parse:\n",
        "        if isinstance(element, note.Note):\n",
        "          notes.append(str(element.pitch))\n",
        "        elif isinstance(element, chord.Chord):\n",
        "          notes.append('.'.join(str(n) for n in element.normalOrder))\n",
        "      \n",
        "  return notes"
      ],
      "execution_count": 0,
      "outputs": []
    },
    {
      "cell_type": "code",
      "metadata": {
        "id": "UeiDWLIgtpux",
        "colab_type": "code",
        "colab": {}
      },
      "source": [
        "#read all the filenames\n",
        "files=[i for i in os.listdir() if i.endswith(\".mid\")]\n",
        "\n",
        "#reading each midi file\n",
        "all_notes=[]\n",
        "for i in files:\n",
        "  all_notes.append(read_midi(i))\n",
        "\n",
        "#notes and chords of all the midi files\n",
        "notes = [element for notes in all_notes for element in notes]"
      ],
      "execution_count": 0,
      "outputs": []
    },
    {
      "cell_type": "code",
      "metadata": {
        "id": "oy_KnBQlvxNB",
        "colab_type": "code",
        "colab": {}
      },
      "source": [
        "#length of a input sequence\n",
        "no_of_timesteps = 128      \n",
        "\n",
        "#no. of unique notes\n",
        "n_vocab = len(set(notes))  \n",
        "\n",
        "#all the unique notes\n",
        "pitch = sorted(set(item for item in notes))  \n",
        "\n",
        "#assign unique value to every note\n",
        "note_to_int = dict((note, number) for number, note in enumerate(pitch))  \n",
        "\n",
        "#preparing input and output sequences\n",
        "X = []\n",
        "y = []\n",
        "for notes in all_notes:\n",
        "  for i in range(0, len(notes) - no_of_timesteps, 1):\n",
        "    input_ = notes[i:i + no_of_timesteps]\n",
        "    output = notes[i + no_of_timesteps]\n",
        "    X.append([note_to_int[note] for note in input_])\n",
        "    y.append(note_to_int[output])"
      ],
      "execution_count": 0,
      "outputs": []
    },
    {
      "cell_type": "code",
      "metadata": {
        "id": "rQf1mDA7AaEU",
        "colab_type": "code",
        "outputId": "a25bbfb9-b8f0-4bc4-d3c7-f905fb910587",
        "colab": {
          "base_uri": "https://localhost:8080/",
          "height": 34
        }
      },
      "source": [
        "#reshaping\n",
        "X = np.reshape(X, (len(X), no_of_timesteps, 1))\n",
        "#normalizing the inputs\n",
        "X = X / float(n_vocab)  \n",
        "print(len(X))"
      ],
      "execution_count": 0,
      "outputs": [
        {
          "output_type": "stream",
          "text": [
            "63757\n"
          ],
          "name": "stdout"
        }
      ]
    },
    {
      "cell_type": "code",
      "metadata": {
        "id": "7Xe3uR8mA156",
        "colab_type": "code",
        "colab": {}
      },
      "source": [
        "def lstm():\n",
        "  model = Sequential()\n",
        "  model.add(LSTM(128,return_sequences=True))\n",
        "  model.add(LSTM(128))\n",
        "  model.add(Dense(256))\n",
        "  model.add(Activation('relu'))\n",
        "  model.add(Dense(n_vocab))\n",
        "  model.add(Activation('softmax'))\n",
        "  model.compile(loss='sparse_categorical_crossentropy', optimizer='adam')\n",
        "  return model"
      ],
      "execution_count": 0,
      "outputs": []
    },
    {
      "cell_type": "code",
      "metadata": {
        "id": "6OOqMr93A5qI",
        "colab_type": "code",
        "colab": {}
      },
      "source": [
        "K.clear_session()\n",
        "def simple_wavenet():\n",
        "  no_of_kernels=64\n",
        "  num_of_blocks= int(np.sqrt(no_of_timesteps)) - 1   #no. of stacked conv1d layers\n",
        "\n",
        "  model = Sequential()\n",
        "  for i in range(num_of_blocks):\n",
        "    model.add(Conv1D(no_of_kernels,3,dilation_rate=(2**i),padding='causal',activation='relu'))\n",
        "  model.add(Conv1D(1, 1, activation='relu', padding='causal'))\n",
        "  model.add(Flatten())\n",
        "  model.add(Dense(128, activation='relu'))\n",
        "  model.add(Dense(n_vocab, activation='softmax'))\n",
        "  model.compile(loss='sparse_categorical_crossentropy', optimizer='adam')\n",
        "  return model"
      ],
      "execution_count": 0,
      "outputs": []
    },
    {
      "cell_type": "code",
      "metadata": {
        "id": "K1IBZtlLBI64",
        "colab_type": "code",
        "colab": {}
      },
      "source": [
        "import keras\n",
        "mc = keras.callbacks.ModelCheckpoint('model{epoch:03d}.h5', save_weights_only=False, period=50)"
      ],
      "execution_count": 0,
      "outputs": []
    },
    {
      "cell_type": "code",
      "metadata": {
        "id": "A7pCq6HtBdQf",
        "colab_type": "code",
        "colab": {}
      },
      "source": [
        "model = simple_wavenet()\n",
        "model.fit(X,np.array(y), epochs=100, batch_size=128,callbacks=[mc])"
      ],
      "execution_count": 0,
      "outputs": []
    },
    {
      "cell_type": "code",
      "metadata": {
        "id": "l3oUgJMxBjxo",
        "colab_type": "code",
        "colab": {}
      },
      "source": [
        "def generate_music(model, pitch, no_of_timesteps, pattern):\n",
        "    \n",
        "    int_to_note = dict((number, note) for number, note in enumerate(pitch))\n",
        "    prediction_output = []\n",
        "    \n",
        "    # generate 50 elements\n",
        "    for note_index in range(50):\n",
        "        #reshaping array to feed into model\n",
        "        input_ = np.reshape(pattern, (1, len(pattern), 1))\n",
        "        #predict the probability and choose the maximum value\n",
        "        proba = model.predict(input_, verbose=0)\n",
        "        index = np.argmax(proba)\n",
        "        #convert integer back to the element\n",
        "        pred = int_to_note[index]\n",
        "        prediction_output.append(pred)\n",
        "        pattern = list(pattern)\n",
        "        pattern.append(index/float(n_vocab))\n",
        "        #leave the first value at index 0\n",
        "        pattern = pattern[1:len(pattern)]\n",
        "\n",
        "    return prediction_output"
      ],
      "execution_count": 0,
      "outputs": []
    },
    {
      "cell_type": "code",
      "metadata": {
        "id": "oUvHurHBBvaH",
        "colab_type": "code",
        "colab": {}
      },
      "source": [
        "def convert_to_midi(prediction_output):\n",
        "    offset = 0\n",
        "    output_notes = []\n",
        "\n",
        "    # create note and chord objects based on the values generated by the model\n",
        "    for pattern in prediction_output:\n",
        "        # pattern is a chord\n",
        "        if ('.' in pattern) or pattern.isdigit():\n",
        "            notes_in_chord = pattern.split('.')\n",
        "            notes = []\n",
        "            for current_note in notes_in_chord:\n",
        "                new_note = note.Note(int(current_note))\n",
        "                new_note.storedInstrument = instrument.Piano()\n",
        "                notes.append(new_note)\n",
        "            new_chord = chord.Chord(notes)\n",
        "            new_chord.offset = offset\n",
        "            output_notes.append(new_chord)\n",
        "        # pattern is a note\n",
        "        else:\n",
        "            new_note = note.Note(pattern)\n",
        "            new_note.offset = offset\n",
        "            new_note.storedInstrument = instrument.Piano()\n",
        "            output_notes.append(new_note)\n",
        "\n",
        "        # Specify duration between 2 notes\n",
        "        offset +=0.5\n",
        "        # offset += random.uniform(0.5,0.9)\n",
        "\n",
        "    midi_stream = stream.Stream(output_notes)\n",
        "    midi_stream.write('midi', fp='music.mid')\n"
      ],
      "execution_count": 0,
      "outputs": []
    },
    {
      "cell_type": "code",
      "metadata": {
        "id": "jxVi9TxpCGO4",
        "colab_type": "code",
        "colab": {}
      },
      "source": [
        "#Select random chunk for the first iteration\n",
        "start = np.random.randint(0, len(X)-1)\n",
        "pattern = X[start]\n",
        "#load the best model\n",
        "model=load_model('model050.h5')\n",
        "#generate and save music\n",
        "music = generate_music(model,pitch,no_of_timesteps,pattern)\n",
        "convert_to_midi(music)"
      ],
      "execution_count": 0,
      "outputs": []
    },
    {
      "cell_type": "code",
      "metadata": {
        "id": "Udt3H8ixF9dz",
        "colab_type": "code",
        "colab": {}
      },
      "source": [
        ""
      ],
      "execution_count": 0,
      "outputs": []
    }
  ]
}